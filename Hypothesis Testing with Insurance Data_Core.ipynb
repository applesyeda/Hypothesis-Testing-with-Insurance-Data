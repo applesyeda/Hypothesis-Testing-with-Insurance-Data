{
 "cells": [
  {
   "cell_type": "code",
   "execution_count": 1,
   "id": "1a82c3b1",
   "metadata": {},
   "outputs": [],
   "source": [
    "# Import libraries\n",
    "import numpy as np\n",
    "import pandas as pd\n",
    "import matplotlib.pyplot as plt\n",
    "import seaborn as sns\n",
    "import json\n",
    "from scipy import stats\n",
    "\n",
    "from statsmodels.stats.multicomp import pairwise_tukeyhsd"
   ]
  },
  {
   "cell_type": "code",
   "execution_count": 2,
   "id": "f98d0c43",
   "metadata": {},
   "outputs": [],
   "source": [
    "insurance_df = pd.read_csv('insurance.csv')"
   ]
  },
  {
   "cell_type": "code",
   "execution_count": 3,
   "id": "358468b5",
   "metadata": {},
   "outputs": [
    {
     "data": {
      "text/html": [
       "<div>\n",
       "<style scoped>\n",
       "    .dataframe tbody tr th:only-of-type {\n",
       "        vertical-align: middle;\n",
       "    }\n",
       "\n",
       "    .dataframe tbody tr th {\n",
       "        vertical-align: top;\n",
       "    }\n",
       "\n",
       "    .dataframe thead th {\n",
       "        text-align: right;\n",
       "    }\n",
       "</style>\n",
       "<table border=\"1\" class=\"dataframe\">\n",
       "  <thead>\n",
       "    <tr style=\"text-align: right;\">\n",
       "      <th></th>\n",
       "      <th>age</th>\n",
       "      <th>sex</th>\n",
       "      <th>bmi</th>\n",
       "      <th>children</th>\n",
       "      <th>smoker</th>\n",
       "      <th>region</th>\n",
       "      <th>charges</th>\n",
       "    </tr>\n",
       "  </thead>\n",
       "  <tbody>\n",
       "    <tr>\n",
       "      <th>0</th>\n",
       "      <td>19</td>\n",
       "      <td>female</td>\n",
       "      <td>27.900</td>\n",
       "      <td>0</td>\n",
       "      <td>yes</td>\n",
       "      <td>southwest</td>\n",
       "      <td>16884.92400</td>\n",
       "    </tr>\n",
       "    <tr>\n",
       "      <th>1</th>\n",
       "      <td>18</td>\n",
       "      <td>male</td>\n",
       "      <td>33.770</td>\n",
       "      <td>1</td>\n",
       "      <td>no</td>\n",
       "      <td>southeast</td>\n",
       "      <td>1725.55230</td>\n",
       "    </tr>\n",
       "    <tr>\n",
       "      <th>2</th>\n",
       "      <td>28</td>\n",
       "      <td>male</td>\n",
       "      <td>33.000</td>\n",
       "      <td>3</td>\n",
       "      <td>no</td>\n",
       "      <td>southeast</td>\n",
       "      <td>4449.46200</td>\n",
       "    </tr>\n",
       "    <tr>\n",
       "      <th>3</th>\n",
       "      <td>33</td>\n",
       "      <td>male</td>\n",
       "      <td>22.705</td>\n",
       "      <td>0</td>\n",
       "      <td>no</td>\n",
       "      <td>northwest</td>\n",
       "      <td>21984.47061</td>\n",
       "    </tr>\n",
       "    <tr>\n",
       "      <th>4</th>\n",
       "      <td>32</td>\n",
       "      <td>male</td>\n",
       "      <td>28.880</td>\n",
       "      <td>0</td>\n",
       "      <td>no</td>\n",
       "      <td>northwest</td>\n",
       "      <td>3866.85520</td>\n",
       "    </tr>\n",
       "  </tbody>\n",
       "</table>\n",
       "</div>"
      ],
      "text/plain": [
       "   age     sex     bmi  children smoker     region      charges\n",
       "0   19  female  27.900         0    yes  southwest  16884.92400\n",
       "1   18    male  33.770         1     no  southeast   1725.55230\n",
       "2   28    male  33.000         3     no  southeast   4449.46200\n",
       "3   33    male  22.705         0     no  northwest  21984.47061\n",
       "4   32    male  28.880         0     no  northwest   3866.85520"
      ]
     },
     "execution_count": 3,
     "metadata": {},
     "output_type": "execute_result"
    }
   ],
   "source": [
    "insurance_df.head()"
   ]
  },
  {
   "cell_type": "markdown",
   "id": "3291d1ef",
   "metadata": {},
   "source": [
    "Q1. Do smokers have higher insurance charges than non-smokers?\n",
    "\n",
    "H0, Null Hypothesis: \n",
    "\n",
    "There is no statistical significance between the cost of insurance between smokers and non-smokers.\n",
    "\n",
    "\n",
    "HA, Alternate Hypothesis:\n",
    "\n",
    "The null hypothesis is rejected as there is a significant difference in insurance costs between smokers and non-smokers.\n",
    "\n",
    "Since there are two groups being compared, smokers and non-smokers, with numeric data, the correct test is a 2 sample t-test."
   ]
  },
  {
   "cell_type": "code",
   "execution_count": 4,
   "id": "d0d62053",
   "metadata": {},
   "outputs": [
    {
     "data": {
      "text/html": [
       "<div>\n",
       "<style scoped>\n",
       "    .dataframe tbody tr th:only-of-type {\n",
       "        vertical-align: middle;\n",
       "    }\n",
       "\n",
       "    .dataframe tbody tr th {\n",
       "        vertical-align: top;\n",
       "    }\n",
       "\n",
       "    .dataframe thead th {\n",
       "        text-align: right;\n",
       "    }\n",
       "</style>\n",
       "<table border=\"1\" class=\"dataframe\">\n",
       "  <thead>\n",
       "    <tr style=\"text-align: right;\">\n",
       "      <th></th>\n",
       "      <th>smoker</th>\n",
       "      <th>charges</th>\n",
       "    </tr>\n",
       "  </thead>\n",
       "  <tbody>\n",
       "    <tr>\n",
       "      <th>0</th>\n",
       "      <td>yes</td>\n",
       "      <td>16884.9240</td>\n",
       "    </tr>\n",
       "    <tr>\n",
       "      <th>11</th>\n",
       "      <td>yes</td>\n",
       "      <td>27808.7251</td>\n",
       "    </tr>\n",
       "    <tr>\n",
       "      <th>14</th>\n",
       "      <td>yes</td>\n",
       "      <td>39611.7577</td>\n",
       "    </tr>\n",
       "    <tr>\n",
       "      <th>19</th>\n",
       "      <td>yes</td>\n",
       "      <td>36837.4670</td>\n",
       "    </tr>\n",
       "    <tr>\n",
       "      <th>23</th>\n",
       "      <td>yes</td>\n",
       "      <td>37701.8768</td>\n",
       "    </tr>\n",
       "  </tbody>\n",
       "</table>\n",
       "</div>"
      ],
      "text/plain": [
       "   smoker     charges\n",
       "0     yes  16884.9240\n",
       "11    yes  27808.7251\n",
       "14    yes  39611.7577\n",
       "19    yes  36837.4670\n",
       "23    yes  37701.8768"
      ]
     },
     "execution_count": 4,
     "metadata": {},
     "output_type": "execute_result"
    }
   ],
   "source": [
    "smoker_df = insurance_df.loc[insurance_df.smoker =='yes', ['smoker','charges']].copy()\n",
    "smoker_df.head()"
   ]
  },
  {
   "cell_type": "code",
   "execution_count": 5,
   "id": "98dccd1e",
   "metadata": {},
   "outputs": [
    {
     "data": {
      "text/plain": [
       "0"
      ]
     },
     "execution_count": 5,
     "metadata": {},
     "output_type": "execute_result"
    }
   ],
   "source": [
    "#Idenifying outliers \n",
    "smoking_group = smoker_df['charges']\n",
    "smoking_outliers = np.abs(stats.zscore(smoking_group)) > 3\n",
    "smoking_outliers.sum()"
   ]
  },
  {
   "cell_type": "code",
   "execution_count": 6,
   "id": "1a580675",
   "metadata": {},
   "outputs": [
    {
     "data": {
      "text/html": [
       "<div>\n",
       "<style scoped>\n",
       "    .dataframe tbody tr th:only-of-type {\n",
       "        vertical-align: middle;\n",
       "    }\n",
       "\n",
       "    .dataframe tbody tr th {\n",
       "        vertical-align: top;\n",
       "    }\n",
       "\n",
       "    .dataframe thead th {\n",
       "        text-align: right;\n",
       "    }\n",
       "</style>\n",
       "<table border=\"1\" class=\"dataframe\">\n",
       "  <thead>\n",
       "    <tr style=\"text-align: right;\">\n",
       "      <th></th>\n",
       "      <th>smoker</th>\n",
       "      <th>charges</th>\n",
       "    </tr>\n",
       "  </thead>\n",
       "  <tbody>\n",
       "    <tr>\n",
       "      <th>1</th>\n",
       "      <td>no</td>\n",
       "      <td>1725.55230</td>\n",
       "    </tr>\n",
       "    <tr>\n",
       "      <th>2</th>\n",
       "      <td>no</td>\n",
       "      <td>4449.46200</td>\n",
       "    </tr>\n",
       "    <tr>\n",
       "      <th>3</th>\n",
       "      <td>no</td>\n",
       "      <td>21984.47061</td>\n",
       "    </tr>\n",
       "    <tr>\n",
       "      <th>4</th>\n",
       "      <td>no</td>\n",
       "      <td>3866.85520</td>\n",
       "    </tr>\n",
       "    <tr>\n",
       "      <th>5</th>\n",
       "      <td>no</td>\n",
       "      <td>3756.62160</td>\n",
       "    </tr>\n",
       "  </tbody>\n",
       "</table>\n",
       "</div>"
      ],
      "text/plain": [
       "  smoker      charges\n",
       "1     no   1725.55230\n",
       "2     no   4449.46200\n",
       "3     no  21984.47061\n",
       "4     no   3866.85520\n",
       "5     no   3756.62160"
      ]
     },
     "execution_count": 6,
     "metadata": {},
     "output_type": "execute_result"
    }
   ],
   "source": [
    "nonsmoker_df = insurance_df.loc[insurance_df.smoker =='no', ['smoker','charges']].copy()\n",
    "nonsmoker_df.head()"
   ]
  },
  {
   "cell_type": "code",
   "execution_count": 7,
   "id": "57ebae8b",
   "metadata": {},
   "outputs": [
    {
     "data": {
      "text/plain": [
       "24"
      ]
     },
     "execution_count": 7,
     "metadata": {},
     "output_type": "execute_result"
    }
   ],
   "source": [
    "#Idenifying outliers \n",
    "nonsmoking_group = nonsmoker_df['charges']\n",
    "nonsmoking_outliers = np.abs(stats.zscore(nonsmoking_group)) > 3\n",
    "nonsmoking_outliers.sum()"
   ]
  },
  {
   "cell_type": "code",
   "execution_count": 8,
   "id": "8b57996d",
   "metadata": {},
   "outputs": [],
   "source": [
    "q1_plot_df = pd.concat([smoker_df, nonsmoker_df], axis=0).copy()"
   ]
  },
  {
   "cell_type": "code",
   "execution_count": 9,
   "id": "677f1375",
   "metadata": {},
   "outputs": [],
   "source": [
    "#Testing the Normality Assumption:\n",
    "\n",
    "H0 = \"The sample comes from a normal distribution.\"\n",
    "HA = \"The sample does not come from a normal distribution.\"\n",
    "alpha = .05\n",
    "group = smoking_group"
   ]
  },
  {
   "cell_type": "code",
   "execution_count": 10,
   "id": "4e0b4243",
   "metadata": {},
   "outputs": [],
   "source": [
    "ho_desc = 'No statistical significance exists. The null hypothesis was not rejected.'\n",
    "ha_desc = 'A statistical significance exists. The null hypothesis is rejected as there is a significant difference in insurance costs between smokers and non-smokers.'"
   ]
  },
  {
   "cell_type": "code",
   "execution_count": 11,
   "id": "27accb8f",
   "metadata": {},
   "outputs": [
    {
     "name": "stdout",
     "output_type": "stream",
     "text": [
      "The p-value for the test was 5.564930630036463e-14\n",
      "It was < the alpha value of 0.05, so\n",
      "A statistical significance exists. The null hypothesis is rejected as there is a significant difference in insurance costs between smokers and non-smokers.\n",
      "The sample does not come from a normal distribution.\n"
     ]
    }
   ],
   "source": [
    "# Run the test and display the results\n",
    "statistic, pvalue = stats.normaltest(group)\n",
    "if pvalue < alpha:\n",
    "    print(f'The p-value for the test was {pvalue}')\n",
    "    print(f'It was < the alpha value of {alpha}, so')\n",
    "    print(ha_desc)\n",
    "    print(HA)\n",
    "else:\n",
    "    print(f'The p-value for the test was {pvalue}')\n",
    "    print(f'It was > the alpha value of {alpha}, so')\n",
    "    print(ho_desc)\n",
    "    print(H0)  "
   ]
  },
  {
   "cell_type": "code",
   "execution_count": 12,
   "id": "9e62cb48",
   "metadata": {},
   "outputs": [],
   "source": [
    "#Testing the Normality Assumption:\n",
    "\n",
    "H0 = \"The sample comes from a normal distribution.\"\n",
    "HA = \"The sample does not come from a normal distribution.\"\n",
    "alpha = .05\n",
    "group = nonsmoking_group"
   ]
  },
  {
   "cell_type": "code",
   "execution_count": 13,
   "id": "a49cfaa2",
   "metadata": {},
   "outputs": [
    {
     "name": "stdout",
     "output_type": "stream",
     "text": [
      "The p-value for the test was 1.9193129759002216e-69\n",
      "It was < the alpha value of 0.05, so\n",
      "A statistical significance exists. The null hypothesis is rejected as there is a significant difference in insurance costs between smokers and non-smokers.\n",
      "The sample does not come from a normal distribution.\n"
     ]
    }
   ],
   "source": [
    "# Run the test and display the results\n",
    "statistic, pvalue = stats.normaltest(group)\n",
    "if pvalue < alpha:\n",
    "    print(f'The p-value for the test was {pvalue}')\n",
    "    print(f'It was < the alpha value of {alpha}, so')\n",
    "    print(ha_desc)\n",
    "    print(HA)\n",
    "else:\n",
    "    print(f'The p-value for the test was {pvalue}')\n",
    "    print(f'It was > the alpha value of {alpha}, so')\n",
    "    print(ho_desc)\n",
    "    print(H0)  "
   ]
  },
  {
   "cell_type": "code",
   "execution_count": 14,
   "id": "b811462f",
   "metadata": {},
   "outputs": [
    {
     "data": {
      "text/plain": [
       "274"
      ]
     },
     "execution_count": 14,
     "metadata": {},
     "output_type": "execute_result"
    }
   ],
   "source": [
    "len(smoking_group)"
   ]
  },
  {
   "cell_type": "code",
   "execution_count": 15,
   "id": "aa336d9c",
   "metadata": {},
   "outputs": [
    {
     "data": {
      "text/plain": [
       "1064"
      ]
     },
     "execution_count": 15,
     "metadata": {},
     "output_type": "execute_result"
    }
   ],
   "source": [
    "len(nonsmoking_group)"
   ]
  },
  {
   "cell_type": "markdown",
   "id": "cfb722e0",
   "metadata": {},
   "source": [
    "We have large enough groups that we can disregard the assumption of normality"
   ]
  },
  {
   "cell_type": "code",
   "execution_count": 16,
   "id": "8a082c40",
   "metadata": {},
   "outputs": [],
   "source": [
    "#Assumption of Equal Variance \n",
    "H0 = \"All input samples are from populations with equal variances.\"\n",
    "HA = \"All input samples are not from populations with equal variances.\"\n",
    "alpha = .05"
   ]
  },
  {
   "cell_type": "code",
   "execution_count": 19,
   "id": "274b4cf1",
   "metadata": {},
   "outputs": [
    {
     "name": "stdout",
     "output_type": "stream",
     "text": [
      "The p-value for the test was 1.5593284881803726e-66\n",
      "It was < the alpha value of 0.05, so\n",
      "A statistical significance exists. The null hypothesis is rejected as there is a significant difference in insurance costs between smokers and non-smokers.\n",
      "All input samples are not from populations with equal variances.\n"
     ]
    }
   ],
   "source": [
    "# Run the test and display the results\n",
    "statistic, pvalue = stats.levene(smoking_group, nonsmoking_group)\n",
    "if pvalue < alpha:\n",
    "    print(f'The p-value for the test was {pvalue}')\n",
    "    print(f'It was < the alpha value of {alpha}, so')\n",
    "    print(ha_desc)\n",
    "    print(HA)\n",
    "else:\n",
    "    print(f'The p-value for the test was {pvalue}')\n",
    "    print(f'It was > the alpha value of {alpha}, so')\n",
    "    print(ho_desc)\n",
    "    print(H0)  "
   ]
  },
  {
   "cell_type": "markdown",
   "id": "6d01e401",
   "metadata": {},
   "source": [
    "This didn't pass the equal variance, so the 2 sample t-test cannot be used! We must use the Welch's T-Test."
   ]
  },
  {
   "cell_type": "code",
   "execution_count": 20,
   "id": "4bbded12",
   "metadata": {},
   "outputs": [],
   "source": [
    "H0 = 'No significant difference in insurance costs exists between smokers and non-smokers.'\n",
    "HA = 'A significant difference in insurance costs exists between smokers and non-smokers.'\n",
    "alpha = .05"
   ]
  },
  {
   "cell_type": "code",
   "execution_count": 21,
   "id": "25bb22ed",
   "metadata": {},
   "outputs": [
    {
     "name": "stdout",
     "output_type": "stream",
     "text": [
      "The p-value for the test was 5.88946444671698e-103\n",
      "It was < the alpha value of 0.05, so\n",
      "A statistical significance exists. The null hypothesis is rejected as there is a significant difference in insurance costs between smokers and non-smokers.\n",
      "A significant difference in insurance costs exists between smokers and non-smokers.\n"
     ]
    }
   ],
   "source": [
    "# Run the test and display the results\n",
    "statistic, pvalue = stats.ttest_ind(smoking_group, nonsmoking_group, equal_var=False) #double check equal_var=True/False\n",
    "if pvalue < alpha:\n",
    "    print(f'The p-value for the test was {pvalue}')\n",
    "    print(f'It was < the alpha value of {alpha}, so')\n",
    "    print(ha_desc)\n",
    "    print(HA)\n",
    "else:\n",
    "    print(f'The p-value for the test was {pvalue}')\n",
    "    print(f'It was > the alpha value of {alpha}, so')\n",
    "    print(ho_desc)\n",
    "    print(H0)"
   ]
  },
  {
   "cell_type": "code",
   "execution_count": 22,
   "id": "53f9b74c",
   "metadata": {},
   "outputs": [
    {
     "data": {
      "text/html": [
       "<div>\n",
       "<style scoped>\n",
       "    .dataframe tbody tr th:only-of-type {\n",
       "        vertical-align: middle;\n",
       "    }\n",
       "\n",
       "    .dataframe tbody tr th {\n",
       "        vertical-align: top;\n",
       "    }\n",
       "\n",
       "    .dataframe thead th {\n",
       "        text-align: right;\n",
       "    }\n",
       "</style>\n",
       "<table border=\"1\" class=\"dataframe\">\n",
       "  <thead>\n",
       "    <tr style=\"text-align: right;\">\n",
       "      <th></th>\n",
       "      <th>smoker</th>\n",
       "      <th>charges</th>\n",
       "    </tr>\n",
       "  </thead>\n",
       "  <tbody>\n",
       "    <tr>\n",
       "      <th>0</th>\n",
       "      <td>yes</td>\n",
       "      <td>16884.9240</td>\n",
       "    </tr>\n",
       "    <tr>\n",
       "      <th>11</th>\n",
       "      <td>yes</td>\n",
       "      <td>27808.7251</td>\n",
       "    </tr>\n",
       "    <tr>\n",
       "      <th>14</th>\n",
       "      <td>yes</td>\n",
       "      <td>39611.7577</td>\n",
       "    </tr>\n",
       "    <tr>\n",
       "      <th>19</th>\n",
       "      <td>yes</td>\n",
       "      <td>36837.4670</td>\n",
       "    </tr>\n",
       "    <tr>\n",
       "      <th>23</th>\n",
       "      <td>yes</td>\n",
       "      <td>37701.8768</td>\n",
       "    </tr>\n",
       "    <tr>\n",
       "      <th>...</th>\n",
       "      <td>...</td>\n",
       "      <td>...</td>\n",
       "    </tr>\n",
       "    <tr>\n",
       "      <th>1332</th>\n",
       "      <td>no</td>\n",
       "      <td>11411.6850</td>\n",
       "    </tr>\n",
       "    <tr>\n",
       "      <th>1333</th>\n",
       "      <td>no</td>\n",
       "      <td>10600.5483</td>\n",
       "    </tr>\n",
       "    <tr>\n",
       "      <th>1334</th>\n",
       "      <td>no</td>\n",
       "      <td>2205.9808</td>\n",
       "    </tr>\n",
       "    <tr>\n",
       "      <th>1335</th>\n",
       "      <td>no</td>\n",
       "      <td>1629.8335</td>\n",
       "    </tr>\n",
       "    <tr>\n",
       "      <th>1336</th>\n",
       "      <td>no</td>\n",
       "      <td>2007.9450</td>\n",
       "    </tr>\n",
       "  </tbody>\n",
       "</table>\n",
       "<p>1338 rows × 2 columns</p>\n",
       "</div>"
      ],
      "text/plain": [
       "     smoker     charges\n",
       "0       yes  16884.9240\n",
       "11      yes  27808.7251\n",
       "14      yes  39611.7577\n",
       "19      yes  36837.4670\n",
       "23      yes  37701.8768\n",
       "...     ...         ...\n",
       "1332     no  11411.6850\n",
       "1333     no  10600.5483\n",
       "1334     no   2205.9808\n",
       "1335     no   1629.8335\n",
       "1336     no   2007.9450\n",
       "\n",
       "[1338 rows x 2 columns]"
      ]
     },
     "execution_count": 22,
     "metadata": {},
     "output_type": "execute_result"
    }
   ],
   "source": [
    "q1_plot_df"
   ]
  },
  {
   "cell_type": "code",
   "execution_count": 23,
   "id": "af3df469",
   "metadata": {},
   "outputs": [
    {
     "data": {
      "image/png": "[encoded data removed]",
      "text/plain": [
       "<Figure size 432x288 with 1 Axes>"
      ]
     },
     "metadata": {
      "needs_background": "light"
     },
     "output_type": "display_data"
    }
   ],
   "source": [
    "sns.barplot(data=q1_plot_df, x='smoker', y='charges', ci=68.2);"
   ]
  },
  {
   "cell_type": "markdown",
   "id": "a535dff3",
   "metadata": {},
   "source": [
    "Q2. Are men more likely to smoke than women?"
   ]
  },
  {
   "cell_type": "code",
   "execution_count": 24,
   "id": "b5b20a35",
   "metadata": {},
   "outputs": [
    {
     "data": {
      "text/html": [
       "<div>\n",
       "<style scoped>\n",
       "    .dataframe tbody tr th:only-of-type {\n",
       "        vertical-align: middle;\n",
       "    }\n",
       "\n",
       "    .dataframe tbody tr th {\n",
       "        vertical-align: top;\n",
       "    }\n",
       "\n",
       "    .dataframe thead th {\n",
       "        text-align: right;\n",
       "    }\n",
       "</style>\n",
       "<table border=\"1\" class=\"dataframe\">\n",
       "  <thead>\n",
       "    <tr style=\"text-align: right;\">\n",
       "      <th></th>\n",
       "      <th>age</th>\n",
       "      <th>sex</th>\n",
       "      <th>bmi</th>\n",
       "      <th>children</th>\n",
       "      <th>smoker</th>\n",
       "      <th>region</th>\n",
       "      <th>charges</th>\n",
       "    </tr>\n",
       "  </thead>\n",
       "  <tbody>\n",
       "    <tr>\n",
       "      <th>0</th>\n",
       "      <td>19</td>\n",
       "      <td>female</td>\n",
       "      <td>27.900</td>\n",
       "      <td>0</td>\n",
       "      <td>yes</td>\n",
       "      <td>southwest</td>\n",
       "      <td>16884.92400</td>\n",
       "    </tr>\n",
       "    <tr>\n",
       "      <th>1</th>\n",
       "      <td>18</td>\n",
       "      <td>male</td>\n",
       "      <td>33.770</td>\n",
       "      <td>1</td>\n",
       "      <td>no</td>\n",
       "      <td>southeast</td>\n",
       "      <td>1725.55230</td>\n",
       "    </tr>\n",
       "    <tr>\n",
       "      <th>2</th>\n",
       "      <td>28</td>\n",
       "      <td>male</td>\n",
       "      <td>33.000</td>\n",
       "      <td>3</td>\n",
       "      <td>no</td>\n",
       "      <td>southeast</td>\n",
       "      <td>4449.46200</td>\n",
       "    </tr>\n",
       "    <tr>\n",
       "      <th>3</th>\n",
       "      <td>33</td>\n",
       "      <td>male</td>\n",
       "      <td>22.705</td>\n",
       "      <td>0</td>\n",
       "      <td>no</td>\n",
       "      <td>northwest</td>\n",
       "      <td>21984.47061</td>\n",
       "    </tr>\n",
       "    <tr>\n",
       "      <th>4</th>\n",
       "      <td>32</td>\n",
       "      <td>male</td>\n",
       "      <td>28.880</td>\n",
       "      <td>0</td>\n",
       "      <td>no</td>\n",
       "      <td>northwest</td>\n",
       "      <td>3866.85520</td>\n",
       "    </tr>\n",
       "  </tbody>\n",
       "</table>\n",
       "</div>"
      ],
      "text/plain": [
       "   age     sex     bmi  children smoker     region      charges\n",
       "0   19  female  27.900         0    yes  southwest  16884.92400\n",
       "1   18    male  33.770         1     no  southeast   1725.55230\n",
       "2   28    male  33.000         3     no  southeast   4449.46200\n",
       "3   33    male  22.705         0     no  northwest  21984.47061\n",
       "4   32    male  28.880         0     no  northwest   3866.85520"
      ]
     },
     "execution_count": 24,
     "metadata": {},
     "output_type": "execute_result"
    }
   ],
   "source": [
    "insurance_df.head()"
   ]
  },
  {
   "cell_type": "code",
   "execution_count": 25,
   "id": "3be072dc",
   "metadata": {},
   "outputs": [
    {
     "data": {
      "text/html": [
       "<div>\n",
       "<style scoped>\n",
       "    .dataframe tbody tr th:only-of-type {\n",
       "        vertical-align: middle;\n",
       "    }\n",
       "\n",
       "    .dataframe tbody tr th {\n",
       "        vertical-align: top;\n",
       "    }\n",
       "\n",
       "    .dataframe thead th {\n",
       "        text-align: right;\n",
       "    }\n",
       "</style>\n",
       "<table border=\"1\" class=\"dataframe\">\n",
       "  <thead>\n",
       "    <tr style=\"text-align: right;\">\n",
       "      <th></th>\n",
       "      <th>sex</th>\n",
       "      <th>smoker</th>\n",
       "    </tr>\n",
       "  </thead>\n",
       "  <tbody>\n",
       "    <tr>\n",
       "      <th>1</th>\n",
       "      <td>male</td>\n",
       "      <td>no</td>\n",
       "    </tr>\n",
       "    <tr>\n",
       "      <th>2</th>\n",
       "      <td>male</td>\n",
       "      <td>no</td>\n",
       "    </tr>\n",
       "    <tr>\n",
       "      <th>3</th>\n",
       "      <td>male</td>\n",
       "      <td>no</td>\n",
       "    </tr>\n",
       "    <tr>\n",
       "      <th>4</th>\n",
       "      <td>male</td>\n",
       "      <td>no</td>\n",
       "    </tr>\n",
       "    <tr>\n",
       "      <th>8</th>\n",
       "      <td>male</td>\n",
       "      <td>no</td>\n",
       "    </tr>\n",
       "  </tbody>\n",
       "</table>\n",
       "</div>"
      ],
      "text/plain": [
       "    sex smoker\n",
       "1  male     no\n",
       "2  male     no\n",
       "3  male     no\n",
       "4  male     no\n",
       "8  male     no"
      ]
     },
     "execution_count": 25,
     "metadata": {},
     "output_type": "execute_result"
    }
   ],
   "source": [
    "men_df = insurance_df.loc[insurance_df.sex =='male', ['sex','smoker']].copy()\n",
    "men_df.head()"
   ]
  },
  {
   "cell_type": "code",
   "execution_count": 26,
   "id": "8cb88e66",
   "metadata": {},
   "outputs": [
    {
     "data": {
      "text/html": [
       "<div>\n",
       "<style scoped>\n",
       "    .dataframe tbody tr th:only-of-type {\n",
       "        vertical-align: middle;\n",
       "    }\n",
       "\n",
       "    .dataframe tbody tr th {\n",
       "        vertical-align: top;\n",
       "    }\n",
       "\n",
       "    .dataframe thead th {\n",
       "        text-align: right;\n",
       "    }\n",
       "</style>\n",
       "<table border=\"1\" class=\"dataframe\">\n",
       "  <thead>\n",
       "    <tr style=\"text-align: right;\">\n",
       "      <th></th>\n",
       "      <th>sex</th>\n",
       "      <th>smoker</th>\n",
       "    </tr>\n",
       "  </thead>\n",
       "  <tbody>\n",
       "    <tr>\n",
       "      <th>0</th>\n",
       "      <td>female</td>\n",
       "      <td>yes</td>\n",
       "    </tr>\n",
       "    <tr>\n",
       "      <th>5</th>\n",
       "      <td>female</td>\n",
       "      <td>no</td>\n",
       "    </tr>\n",
       "    <tr>\n",
       "      <th>6</th>\n",
       "      <td>female</td>\n",
       "      <td>no</td>\n",
       "    </tr>\n",
       "    <tr>\n",
       "      <th>7</th>\n",
       "      <td>female</td>\n",
       "      <td>no</td>\n",
       "    </tr>\n",
       "    <tr>\n",
       "      <th>9</th>\n",
       "      <td>female</td>\n",
       "      <td>no</td>\n",
       "    </tr>\n",
       "  </tbody>\n",
       "</table>\n",
       "</div>"
      ],
      "text/plain": [
       "      sex smoker\n",
       "0  female    yes\n",
       "5  female     no\n",
       "6  female     no\n",
       "7  female     no\n",
       "9  female     no"
      ]
     },
     "execution_count": 26,
     "metadata": {},
     "output_type": "execute_result"
    }
   ],
   "source": [
    "women_df = insurance_df.loc[insurance_df.sex =='female', ['sex','smoker']].copy()\n",
    "women_df.head()"
   ]
  },
  {
   "cell_type": "code",
   "execution_count": 27,
   "id": "cbdb48f9",
   "metadata": {},
   "outputs": [],
   "source": [
    "q2_plot_df = pd.concat([men_df, women_df], axis=0).copy()"
   ]
  },
  {
   "cell_type": "markdown",
   "id": "fea9a3f7",
   "metadata": {},
   "source": [
    "\n",
    "H0 Null Hypothesis: \n",
    "No significant difference exists in the likelihood of men than women to be smokers.\n",
    "\n",
    "HA Alternate Hypothesis:\n",
    "A significant difference exists in the likelihood of men than women to be smokers.\n",
    "\n",
    "The datatype is catagorical where there are two groups being compared, so the correct test is a chi-squared. "
   ]
  },
  {
   "cell_type": "code",
   "execution_count": 28,
   "id": "e5fa4dbc",
   "metadata": {},
   "outputs": [
    {
     "data": {
      "text/html": [
       "<div>\n",
       "<style scoped>\n",
       "    .dataframe tbody tr th:only-of-type {\n",
       "        vertical-align: middle;\n",
       "    }\n",
       "\n",
       "    .dataframe tbody tr th {\n",
       "        vertical-align: top;\n",
       "    }\n",
       "\n",
       "    .dataframe thead th {\n",
       "        text-align: right;\n",
       "    }\n",
       "</style>\n",
       "<table border=\"1\" class=\"dataframe\">\n",
       "  <thead>\n",
       "    <tr style=\"text-align: right;\">\n",
       "      <th>smoker</th>\n",
       "      <th>no</th>\n",
       "      <th>yes</th>\n",
       "    </tr>\n",
       "    <tr>\n",
       "      <th>sex</th>\n",
       "      <th></th>\n",
       "      <th></th>\n",
       "    </tr>\n",
       "  </thead>\n",
       "  <tbody>\n",
       "    <tr>\n",
       "      <th>female</th>\n",
       "      <td>547</td>\n",
       "      <td>115</td>\n",
       "    </tr>\n",
       "    <tr>\n",
       "      <th>male</th>\n",
       "      <td>517</td>\n",
       "      <td>159</td>\n",
       "    </tr>\n",
       "  </tbody>\n",
       "</table>\n",
       "</div>"
      ],
      "text/plain": [
       "smoker   no  yes\n",
       "sex             \n",
       "female  547  115\n",
       "male    517  159"
      ]
     },
     "execution_count": 28,
     "metadata": {},
     "output_type": "execute_result"
    }
   ],
   "source": [
    "# calculating the contingency table with pd.cross-tab\n",
    "table = pd.crosstab(insurance_df['sex'], insurance_df['smoker'])\n",
    "table"
   ]
  },
  {
   "cell_type": "code",
   "execution_count": 29,
   "id": "def4480f",
   "metadata": {},
   "outputs": [],
   "source": [
    "H0 = 'No significant difference exists in the likelihood of men than women to be smokers.'\n",
    "HA = 'A significant difference exists in the likelihood of men than women to be smokers.'\n",
    "alpha = .05"
   ]
  },
  {
   "cell_type": "code",
   "execution_count": 30,
   "id": "e429987e",
   "metadata": {},
   "outputs": [
    {
     "name": "stdout",
     "output_type": "stream",
     "text": [
      "The p-value for the test was 0.006548143503580696\n",
      "It was < the alpha value of 0.05, so\n",
      "A statistical significance exists. The null hypothesis is rejected as there is a significant difference in insurance costs between smokers and non-smokers.\n",
      "A significant difference exists in the likelihood of men than women to be smokers.\n"
     ]
    }
   ],
   "source": [
    "# Run the test and display the results\n",
    "chi2, pvalue, deg_free, expected_vals = stats.chi2_contingency(table)\n",
    "if pvalue < alpha:\n",
    "    print(f'The p-value for the test was {pvalue}')\n",
    "    print(f'It was < the alpha value of {alpha}, so')\n",
    "    print(ha_desc)\n",
    "    print(HA)\n",
    "else:\n",
    "    print(f'The p-value for the test was {pvalue}')\n",
    "    print(f'It was > the alpha value of {alpha}, so')\n",
    "    print(ho_desc)\n",
    "    print(H0)"
   ]
  },
  {
   "cell_type": "code",
   "execution_count": 32,
   "id": "d8597f82",
   "metadata": {},
   "outputs": [
    {
     "data": {
      "text/html": [
       "<div>\n",
       "<style scoped>\n",
       "    .dataframe tbody tr th:only-of-type {\n",
       "        vertical-align: middle;\n",
       "    }\n",
       "\n",
       "    .dataframe tbody tr th {\n",
       "        vertical-align: top;\n",
       "    }\n",
       "\n",
       "    .dataframe thead th {\n",
       "        text-align: right;\n",
       "    }\n",
       "</style>\n",
       "<table border=\"1\" class=\"dataframe\">\n",
       "  <thead>\n",
       "    <tr style=\"text-align: right;\">\n",
       "      <th></th>\n",
       "      <th>sex</th>\n",
       "      <th>smoker</th>\n",
       "    </tr>\n",
       "  </thead>\n",
       "  <tbody>\n",
       "    <tr>\n",
       "      <th>1</th>\n",
       "      <td>male</td>\n",
       "      <td>no</td>\n",
       "    </tr>\n",
       "    <tr>\n",
       "      <th>2</th>\n",
       "      <td>male</td>\n",
       "      <td>no</td>\n",
       "    </tr>\n",
       "    <tr>\n",
       "      <th>3</th>\n",
       "      <td>male</td>\n",
       "      <td>no</td>\n",
       "    </tr>\n",
       "    <tr>\n",
       "      <th>4</th>\n",
       "      <td>male</td>\n",
       "      <td>no</td>\n",
       "    </tr>\n",
       "    <tr>\n",
       "      <th>8</th>\n",
       "      <td>male</td>\n",
       "      <td>no</td>\n",
       "    </tr>\n",
       "    <tr>\n",
       "      <th>...</th>\n",
       "      <td>...</td>\n",
       "      <td>...</td>\n",
       "    </tr>\n",
       "    <tr>\n",
       "      <th>1332</th>\n",
       "      <td>female</td>\n",
       "      <td>no</td>\n",
       "    </tr>\n",
       "    <tr>\n",
       "      <th>1334</th>\n",
       "      <td>female</td>\n",
       "      <td>no</td>\n",
       "    </tr>\n",
       "    <tr>\n",
       "      <th>1335</th>\n",
       "      <td>female</td>\n",
       "      <td>no</td>\n",
       "    </tr>\n",
       "    <tr>\n",
       "      <th>1336</th>\n",
       "      <td>female</td>\n",
       "      <td>no</td>\n",
       "    </tr>\n",
       "    <tr>\n",
       "      <th>1337</th>\n",
       "      <td>female</td>\n",
       "      <td>yes</td>\n",
       "    </tr>\n",
       "  </tbody>\n",
       "</table>\n",
       "<p>1338 rows × 2 columns</p>\n",
       "</div>"
      ],
      "text/plain": [
       "         sex smoker\n",
       "1       male     no\n",
       "2       male     no\n",
       "3       male     no\n",
       "4       male     no\n",
       "8       male     no\n",
       "...      ...    ...\n",
       "1332  female     no\n",
       "1334  female     no\n",
       "1335  female     no\n",
       "1336  female     no\n",
       "1337  female    yes\n",
       "\n",
       "[1338 rows x 2 columns]"
      ]
     },
     "execution_count": 32,
     "metadata": {},
     "output_type": "execute_result"
    }
   ],
   "source": [
    "q2_plot_df"
   ]
  },
  {
   "cell_type": "code",
   "execution_count": 33,
   "id": "b939b095",
   "metadata": {},
   "outputs": [],
   "source": [
    "grouped = q2_plot_df.groupby(['sex'], sort=False)\n",
    "smoker_counts = grouped['smoker'].value_counts(normalize=True, sort=False)\n",
    "smoker_data = [{'smoker': smoker, 'sex': sex, 'percentage': percentage*100} for \n",
    "    (smoker, sex), percentage in dict(smoker_counts).items()]\n",
    "smoker_df = pd.DataFrame(smoker_data)"
   ]
  },
  {
   "cell_type": "code",
   "execution_count": 34,
   "id": "3c4cadaf",
   "metadata": {},
   "outputs": [
    {
     "data": {
      "text/html": [
       "<div>\n",
       "<style scoped>\n",
       "    .dataframe tbody tr th:only-of-type {\n",
       "        vertical-align: middle;\n",
       "    }\n",
       "\n",
       "    .dataframe tbody tr th {\n",
       "        vertical-align: top;\n",
       "    }\n",
       "\n",
       "    .dataframe thead th {\n",
       "        text-align: right;\n",
       "    }\n",
       "</style>\n",
       "<table border=\"1\" class=\"dataframe\">\n",
       "  <thead>\n",
       "    <tr style=\"text-align: right;\">\n",
       "      <th></th>\n",
       "      <th>smoker</th>\n",
       "      <th>sex</th>\n",
       "      <th>percentage</th>\n",
       "    </tr>\n",
       "  </thead>\n",
       "  <tbody>\n",
       "    <tr>\n",
       "      <th>0</th>\n",
       "      <td>male</td>\n",
       "      <td>no</td>\n",
       "      <td>76.479290</td>\n",
       "    </tr>\n",
       "    <tr>\n",
       "      <th>1</th>\n",
       "      <td>male</td>\n",
       "      <td>yes</td>\n",
       "      <td>23.520710</td>\n",
       "    </tr>\n",
       "    <tr>\n",
       "      <th>2</th>\n",
       "      <td>female</td>\n",
       "      <td>no</td>\n",
       "      <td>82.628399</td>\n",
       "    </tr>\n",
       "    <tr>\n",
       "      <th>3</th>\n",
       "      <td>female</td>\n",
       "      <td>yes</td>\n",
       "      <td>17.371601</td>\n",
       "    </tr>\n",
       "  </tbody>\n",
       "</table>\n",
       "</div>"
      ],
      "text/plain": [
       "   smoker  sex  percentage\n",
       "0    male   no   76.479290\n",
       "1    male  yes   23.520710\n",
       "2  female   no   82.628399\n",
       "3  female  yes   17.371601"
      ]
     },
     "execution_count": 34,
     "metadata": {},
     "output_type": "execute_result"
    }
   ],
   "source": [
    "smoker_df"
   ]
  },
  {
   "cell_type": "code",
   "execution_count": 35,
   "id": "df328cab",
   "metadata": {},
   "outputs": [
    {
     "data": {
      "image/png": "[encoded data removed]",
      "text/plain": [
       "<Figure size 432x288 with 1 Axes>"
      ]
     },
     "metadata": {
      "needs_background": "light"
     },
     "output_type": "display_data"
    }
   ],
   "source": [
    "p = sns.barplot(x=\"smoker\", y=\"percentage\", hue=\"sex\", data=smoker_df)"
   ]
  },
  {
   "cell_type": "markdown",
   "id": "ddc80e42",
   "metadata": {},
   "source": [
    "Q3. Do different regions have different charges, on average?\n",
    "\n",
    "H0, Null Hypothesis:\n",
    "No significant difference in charges exists between regions.\n",
    "\n",
    "HA, Alternate Hypothesis:\n",
    "A significant difference in charges exists between regions.\n",
    "\n",
    "The datatype is numeric, there are more than 2 groups, so if parametic we use the ANOVA and/or Tukey, and it nonparametric we use the Kruskal-Wallis"
   ]
  },
  {
   "cell_type": "code",
   "execution_count": 36,
   "id": "de8c5ddf",
   "metadata": {},
   "outputs": [
    {
     "data": {
      "text/plain": [
       "dict_keys(['southwest', 'southeast', 'northwest', 'northeast'])"
      ]
     },
     "execution_count": 36,
     "metadata": {},
     "output_type": "execute_result"
    }
   ],
   "source": [
    "#Outliers assumption testing \n",
    "groups = {}\n",
    "for region in insurance_df['region'].unique():\n",
    "    temp_df = insurance_df.loc[insurance_df['region'] == region, 'charges']\n",
    "    groups[region] = temp_df\n",
    "groups.keys()"
   ]
  },
  {
   "cell_type": "code",
   "execution_count": 37,
   "id": "1b3dfad5",
   "metadata": {},
   "outputs": [
    {
     "data": {
      "text/plain": [
       "0       16884.92400\n",
       "12       1826.84300\n",
       "15       1837.23700\n",
       "18      10602.38500\n",
       "19      36837.46700\n",
       "           ...     \n",
       "1316     1731.67700\n",
       "1329    10325.20600\n",
       "1331    10795.93733\n",
       "1332    11411.68500\n",
       "1336     2007.94500\n",
       "Name: charges, Length: 325, dtype: float64"
      ]
     },
     "execution_count": 37,
     "metadata": {},
     "output_type": "execute_result"
    }
   ],
   "source": [
    "groups['southwest']"
   ]
  },
  {
   "cell_type": "code",
   "execution_count": 38,
   "id": "59d487a3",
   "metadata": {},
   "outputs": [
    {
     "name": "stdout",
     "output_type": "stream",
     "text": [
      "8 outliers were removed from the southwest group.\n",
      "2 outliers were removed from the southeast group.\n",
      "7 outliers were removed from the northwest group.\n",
      "4 outliers were removed from the northeast group.\n"
     ]
    }
   ],
   "source": [
    "for region, data in groups.items():\n",
    "    # Calculate the number of outliers\n",
    "    outliers = np.abs(stats.zscore(data)) > 3\n",
    "    print(f\"{outliers.sum()} outliers were removed from the {region} group.\")\n",
    "    # Remove the outliers\n",
    "    groups[region] = data.loc[~outliers]"
   ]
  },
  {
   "cell_type": "markdown",
   "id": "385cbe29",
   "metadata": {},
   "source": [
    "Outliers have been removed, so outliers assumption has been satisfied!"
   ]
  },
  {
   "cell_type": "code",
   "execution_count": 39,
   "id": "c1defcd9",
   "metadata": {},
   "outputs": [],
   "source": [
    "#Assemption of normality\n",
    "# Loop through the groups and obtain\n",
    "# group count and the pvalue of the Normal Test\n",
    "norm_results = {}\n",
    "for i, data in groups.items():\n",
    "    stat, p = stats.normaltest(data)\n",
    "    norm_results[i] = {'n': len(data),\n",
    "                       'p':p}"
   ]
  },
  {
   "cell_type": "code",
   "execution_count": 40,
   "id": "f2ab77df",
   "metadata": {},
   "outputs": [
    {
     "data": {
      "text/html": [
       "<div>\n",
       "<style scoped>\n",
       "    .dataframe tbody tr th:only-of-type {\n",
       "        vertical-align: middle;\n",
       "    }\n",
       "\n",
       "    .dataframe tbody tr th {\n",
       "        vertical-align: top;\n",
       "    }\n",
       "\n",
       "    .dataframe thead th {\n",
       "        text-align: right;\n",
       "    }\n",
       "</style>\n",
       "<table border=\"1\" class=\"dataframe\">\n",
       "  <thead>\n",
       "    <tr style=\"text-align: right;\">\n",
       "      <th></th>\n",
       "      <th>n</th>\n",
       "      <th>p</th>\n",
       "    </tr>\n",
       "  </thead>\n",
       "  <tbody>\n",
       "    <tr>\n",
       "      <th>southwest</th>\n",
       "      <td>317.0</td>\n",
       "      <td>7.728611e-22</td>\n",
       "    </tr>\n",
       "    <tr>\n",
       "      <th>southeast</th>\n",
       "      <td>362.0</td>\n",
       "      <td>1.936990e-13</td>\n",
       "    </tr>\n",
       "    <tr>\n",
       "      <th>northwest</th>\n",
       "      <td>318.0</td>\n",
       "      <td>2.940543e-19</td>\n",
       "    </tr>\n",
       "    <tr>\n",
       "      <th>northeast</th>\n",
       "      <td>320.0</td>\n",
       "      <td>3.557877e-17</td>\n",
       "    </tr>\n",
       "  </tbody>\n",
       "</table>\n",
       "</div>"
      ],
      "text/plain": [
       "               n             p\n",
       "southwest  317.0  7.728611e-22\n",
       "southeast  362.0  1.936990e-13\n",
       "northwest  318.0  2.940543e-19\n",
       "northeast  320.0  3.557877e-17"
      ]
     },
     "execution_count": 40,
     "metadata": {},
     "output_type": "execute_result"
    }
   ],
   "source": [
    "# Display a dataframe created from the norm_results dictonary and transpose it \n",
    "pd.DataFrame(norm_results).T"
   ]
  },
  {
   "cell_type": "code",
   "execution_count": 41,
   "id": "c34a3379",
   "metadata": {},
   "outputs": [],
   "source": [
    "# Create and display a dataframe created from the norm_results dictonary and transpose it \n",
    "norm_results_df = pd.DataFrame(norm_results).T\n",
    "# Add a column to indicate if the group pvalue was significant or not\n",
    "norm_results_df['sig?'] = norm_results_df['p'] < .05"
   ]
  },
  {
   "cell_type": "code",
   "execution_count": 42,
   "id": "5a169ccb",
   "metadata": {},
   "outputs": [
    {
     "data": {
      "text/html": [
       "<div>\n",
       "<style scoped>\n",
       "    .dataframe tbody tr th:only-of-type {\n",
       "        vertical-align: middle;\n",
       "    }\n",
       "\n",
       "    .dataframe tbody tr th {\n",
       "        vertical-align: top;\n",
       "    }\n",
       "\n",
       "    .dataframe thead th {\n",
       "        text-align: right;\n",
       "    }\n",
       "</style>\n",
       "<table border=\"1\" class=\"dataframe\">\n",
       "  <thead>\n",
       "    <tr style=\"text-align: right;\">\n",
       "      <th></th>\n",
       "      <th>n</th>\n",
       "      <th>p</th>\n",
       "      <th>sig?</th>\n",
       "    </tr>\n",
       "  </thead>\n",
       "  <tbody>\n",
       "    <tr>\n",
       "      <th>southwest</th>\n",
       "      <td>317.0</td>\n",
       "      <td>7.728611e-22</td>\n",
       "      <td>True</td>\n",
       "    </tr>\n",
       "    <tr>\n",
       "      <th>southeast</th>\n",
       "      <td>362.0</td>\n",
       "      <td>1.936990e-13</td>\n",
       "      <td>True</td>\n",
       "    </tr>\n",
       "    <tr>\n",
       "      <th>northwest</th>\n",
       "      <td>318.0</td>\n",
       "      <td>2.940543e-19</td>\n",
       "      <td>True</td>\n",
       "    </tr>\n",
       "    <tr>\n",
       "      <th>northeast</th>\n",
       "      <td>320.0</td>\n",
       "      <td>3.557877e-17</td>\n",
       "      <td>True</td>\n",
       "    </tr>\n",
       "  </tbody>\n",
       "</table>\n",
       "</div>"
      ],
      "text/plain": [
       "               n             p  sig?\n",
       "southwest  317.0  7.728611e-22  True\n",
       "southeast  362.0  1.936990e-13  True\n",
       "northwest  318.0  2.940543e-19  True\n",
       "northeast  320.0  3.557877e-17  True"
      ]
     },
     "execution_count": 42,
     "metadata": {},
     "output_type": "execute_result"
    }
   ],
   "source": [
    "# Display the dataframe\n",
    "norm_results_df"
   ]
  },
  {
   "cell_type": "markdown",
   "id": "ee160bb8",
   "metadata": {},
   "source": [
    "Since there is a large sample size in each group we can safely disregard the assumption of normality, even though the groups do not come from a normal distributions."
   ]
  },
  {
   "cell_type": "code",
   "execution_count": 43,
   "id": "759b926c",
   "metadata": {},
   "outputs": [],
   "source": [
    "#Assumption of Equal Variance testing \n",
    "\n",
    "H0 = \"All input samples are from populations with equal variances.\"\n",
    "HA = \"All input samples are not from populations with equal variances.\"\n",
    "alpha = .05"
   ]
  },
  {
   "cell_type": "code",
   "execution_count": 44,
   "id": "2bb988aa",
   "metadata": {},
   "outputs": [
    {
     "name": "stdout",
     "output_type": "stream",
     "text": [
      "The p-value for the test was 3.2035503711783993e-06\n",
      "It was < the alpha value of 0.05, so\n",
      "A statistical significance exists. The null hypothesis is rejected as there is a significant difference in insurance costs between smokers and non-smokers.\n",
      "All input samples are not from populations with equal variances.\n"
     ]
    }
   ],
   "source": [
    "# Run the test and display the results\n",
    "statistic, pvalue = stats.levene(*groups.values())\n",
    "if pvalue < alpha:\n",
    "    print(f'The p-value for the test was {pvalue}')\n",
    "    print(f'It was < the alpha value of {alpha}, so')\n",
    "    print(ha_desc)\n",
    "    print(HA)\n",
    "else:\n",
    "    print(f'The p-value for the test was {pvalue}')\n",
    "    print(f'It was > the alpha value of {alpha}, so')\n",
    "    print(ho_desc)\n",
    "    print(H0) "
   ]
  },
  {
   "cell_type": "markdown",
   "id": "2ae5a573",
   "metadata": {},
   "source": [
    "The groups did not satisfy the Assumption for Variance, so we will not run the One-Way ANOVA test, we will use the Kruskal Test"
   ]
  },
  {
   "cell_type": "code",
   "execution_count": 45,
   "id": "8fd8e559",
   "metadata": {},
   "outputs": [],
   "source": [
    "H0 = 'No significant difference in charges exists between regions.'\n",
    "HA = 'A significant difference in charges exists between regions.'\n",
    "alpha = .05"
   ]
  },
  {
   "cell_type": "code",
   "execution_count": 46,
   "id": "4f05a8b4",
   "metadata": {},
   "outputs": [
    {
     "name": "stdout",
     "output_type": "stream",
     "text": [
      "The p-value for the test was 0.07468847911322242\n",
      "It was > the alpha value of 0.05, so\n",
      "No statistical significance exists. The null hypothesis was not rejected.\n",
      "No significant difference in charges exists between regions.\n"
     ]
    }
   ],
   "source": [
    "# Run the test and display the results\n",
    "statistic, pvalue = stats.kruskal(*groups.values())\n",
    "if pvalue < alpha:\n",
    "    print(f'The p-value for the test was {pvalue}')\n",
    "    print(f'It was < the alpha value of {alpha}, so')\n",
    "    print(ha_desc)\n",
    "    print(HA)\n",
    "else:\n",
    "    print(f'The p-value for the test was {pvalue}')\n",
    "    print(f'It was > the alpha value of {alpha}, so')\n",
    "    print(ho_desc)\n",
    "    print(H0)"
   ]
  },
  {
   "cell_type": "code",
   "execution_count": 48,
   "id": "292c9cb3",
   "metadata": {},
   "outputs": [
    {
     "data": {
      "image/png": "[encoded data removed]",
      "text/plain": [
       "<Figure size 432x288 with 1 Axes>"
      ]
     },
     "metadata": {
      "needs_background": "light"
     },
     "output_type": "display_data"
    }
   ],
   "source": [
    "sns.barplot(data=insurance_df, x='region', y='charges', ci=68);"
   ]
  }
 ],
 "metadata": {
  "kernelspec": {
   "display_name": "Python (dojo-env)",
   "language": "python",
   "name": "dojo-env"
  },
  "language_info": {
   "codemirror_mode": {
    "name": "ipython",
    "version": 3
   },
   "file_extension": ".py",
   "mimetype": "text/x-python",
   "name": "python",
   "nbconvert_exporter": "python",
   "pygments_lexer": "ipython3",
   "version": "3.8.13"
  },
  "toc": {
   "base_numbering": 1,
   "nav_menu": {},
   "number_sections": false,
   "sideBar": true,
   "skip_h1_title": false,
   "title_cell": "Table of Contents",
   "title_sidebar": "Contents",
   "toc_cell": false,
   "toc_position": {},
   "toc_section_display": true,
   "toc_window_display": false
  }
 },
 "nbformat": 4,
 "nbformat_minor": 5
}
